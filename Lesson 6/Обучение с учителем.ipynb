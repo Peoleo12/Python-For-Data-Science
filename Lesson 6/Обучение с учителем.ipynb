{
  "metadata": {
    "language_info": {
      "codemirror_mode": {
        "name": "python",
        "version": 3
      },
      "file_extension": ".py",
      "mimetype": "text/x-python",
      "name": "python",
      "nbconvert_exporter": "python",
      "pygments_lexer": "ipython3",
      "version": "3.8"
    },
    "kernelspec": {
      "name": "python",
      "display_name": "Python (Pyodide)",
      "language": "python"
    }
  },
  "nbformat_minor": 4,
  "nbformat": 4,
  "cells": [
    {
      "cell_type": "code",
      "source": "#Задание 1",
      "metadata": {
        "trusted": true
      },
      "execution_count": 19,
      "outputs": []
    },
    {
      "cell_type": "code",
      "source": "import pandas as pd\nimport numpy as np",
      "metadata": {
        "trusted": true
      },
      "execution_count": 1,
      "outputs": []
    },
    {
      "cell_type": "code",
      "source": "from sklearn.datasets import load_boston\nboston = load_boston()\nboston.keys()",
      "metadata": {
        "trusted": true
      },
      "execution_count": 4,
      "outputs": [
        {
          "execution_count": 4,
          "output_type": "execute_result",
          "data": {
            "text/plain": "dict_keys(['data', 'target', 'feature_names', 'DESCR', 'filename', 'data_module'])"
          },
          "metadata": {}
        }
      ]
    },
    {
      "cell_type": "code",
      "source": "data = boston[\"data\"]\ndata.shape",
      "metadata": {
        "trusted": true
      },
      "execution_count": 5,
      "outputs": [
        {
          "execution_count": 5,
          "output_type": "execute_result",
          "data": {
            "text/plain": "(506, 13)"
          },
          "metadata": {}
        }
      ]
    },
    {
      "cell_type": "code",
      "source": "feature_names = boston[\"feature_names\"]\nX = pd.DataFrame(data, columns=feature_names)\nX.head()",
      "metadata": {
        "trusted": true
      },
      "execution_count": 6,
      "outputs": [
        {
          "execution_count": 6,
          "output_type": "execute_result",
          "data": {
            "text/plain": "      CRIM    ZN  INDUS  CHAS    NOX     RM   AGE     DIS  RAD    TAX  \\\n0  0.00632  18.0   2.31   0.0  0.538  6.575  65.2  4.0900  1.0  296.0   \n1  0.02731   0.0   7.07   0.0  0.469  6.421  78.9  4.9671  2.0  242.0   \n2  0.02729   0.0   7.07   0.0  0.469  7.185  61.1  4.9671  2.0  242.0   \n3  0.03237   0.0   2.18   0.0  0.458  6.998  45.8  6.0622  3.0  222.0   \n4  0.06905   0.0   2.18   0.0  0.458  7.147  54.2  6.0622  3.0  222.0   \n\n   PTRATIO       B  LSTAT  \n0     15.3  396.90   4.98  \n1     17.8  396.90   9.14  \n2     17.8  392.83   4.03  \n3     18.7  394.63   2.94  \n4     18.7  396.90   5.33  ",
            "text/html": "<div>\n<style scoped>\n    .dataframe tbody tr th:only-of-type {\n        vertical-align: middle;\n    }\n\n    .dataframe tbody tr th {\n        vertical-align: top;\n    }\n\n    .dataframe thead th {\n        text-align: right;\n    }\n</style>\n<table border=\"1\" class=\"dataframe\">\n  <thead>\n    <tr style=\"text-align: right;\">\n      <th></th>\n      <th>CRIM</th>\n      <th>ZN</th>\n      <th>INDUS</th>\n      <th>CHAS</th>\n      <th>NOX</th>\n      <th>RM</th>\n      <th>AGE</th>\n      <th>DIS</th>\n      <th>RAD</th>\n      <th>TAX</th>\n      <th>PTRATIO</th>\n      <th>B</th>\n      <th>LSTAT</th>\n    </tr>\n  </thead>\n  <tbody>\n    <tr>\n      <th>0</th>\n      <td>0.00632</td>\n      <td>18.0</td>\n      <td>2.31</td>\n      <td>0.0</td>\n      <td>0.538</td>\n      <td>6.575</td>\n      <td>65.2</td>\n      <td>4.0900</td>\n      <td>1.0</td>\n      <td>296.0</td>\n      <td>15.3</td>\n      <td>396.90</td>\n      <td>4.98</td>\n    </tr>\n    <tr>\n      <th>1</th>\n      <td>0.02731</td>\n      <td>0.0</td>\n      <td>7.07</td>\n      <td>0.0</td>\n      <td>0.469</td>\n      <td>6.421</td>\n      <td>78.9</td>\n      <td>4.9671</td>\n      <td>2.0</td>\n      <td>242.0</td>\n      <td>17.8</td>\n      <td>396.90</td>\n      <td>9.14</td>\n    </tr>\n    <tr>\n      <th>2</th>\n      <td>0.02729</td>\n      <td>0.0</td>\n      <td>7.07</td>\n      <td>0.0</td>\n      <td>0.469</td>\n      <td>7.185</td>\n      <td>61.1</td>\n      <td>4.9671</td>\n      <td>2.0</td>\n      <td>242.0</td>\n      <td>17.8</td>\n      <td>392.83</td>\n      <td>4.03</td>\n    </tr>\n    <tr>\n      <th>3</th>\n      <td>0.03237</td>\n      <td>0.0</td>\n      <td>2.18</td>\n      <td>0.0</td>\n      <td>0.458</td>\n      <td>6.998</td>\n      <td>45.8</td>\n      <td>6.0622</td>\n      <td>3.0</td>\n      <td>222.0</td>\n      <td>18.7</td>\n      <td>394.63</td>\n      <td>2.94</td>\n    </tr>\n    <tr>\n      <th>4</th>\n      <td>0.06905</td>\n      <td>0.0</td>\n      <td>2.18</td>\n      <td>0.0</td>\n      <td>0.458</td>\n      <td>7.147</td>\n      <td>54.2</td>\n      <td>6.0622</td>\n      <td>3.0</td>\n      <td>222.0</td>\n      <td>18.7</td>\n      <td>396.90</td>\n      <td>5.33</td>\n    </tr>\n  </tbody>\n</table>\n</div>"
          },
          "metadata": {}
        }
      ]
    },
    {
      "cell_type": "code",
      "source": "target = boston[\"target\"]\n\nY = pd.DataFrame(target, columns=[\"price\"])\nY.head()",
      "metadata": {
        "trusted": true
      },
      "execution_count": 7,
      "outputs": [
        {
          "execution_count": 7,
          "output_type": "execute_result",
          "data": {
            "text/plain": "   price\n0   24.0\n1   21.6\n2   34.7\n3   33.4\n4   36.2",
            "text/html": "<div>\n<style scoped>\n    .dataframe tbody tr th:only-of-type {\n        vertical-align: middle;\n    }\n\n    .dataframe tbody tr th {\n        vertical-align: top;\n    }\n\n    .dataframe thead th {\n        text-align: right;\n    }\n</style>\n<table border=\"1\" class=\"dataframe\">\n  <thead>\n    <tr style=\"text-align: right;\">\n      <th></th>\n      <th>price</th>\n    </tr>\n  </thead>\n  <tbody>\n    <tr>\n      <th>0</th>\n      <td>24.0</td>\n    </tr>\n    <tr>\n      <th>1</th>\n      <td>21.6</td>\n    </tr>\n    <tr>\n      <th>2</th>\n      <td>34.7</td>\n    </tr>\n    <tr>\n      <th>3</th>\n      <td>33.4</td>\n    </tr>\n    <tr>\n      <th>4</th>\n      <td>36.2</td>\n    </tr>\n  </tbody>\n</table>\n</div>"
          },
          "metadata": {}
        }
      ]
    },
    {
      "cell_type": "code",
      "source": "from sklearn.model_selection import train_test_split",
      "metadata": {
        "trusted": true
      },
      "execution_count": 9,
      "outputs": []
    },
    {
      "cell_type": "code",
      "source": "X_train, X_test, Y_train, Y_test = train_test_split(X, Y, test_size=0.3)",
      "metadata": {
        "trusted": true
      },
      "execution_count": 12,
      "outputs": []
    },
    {
      "cell_type": "code",
      "source": "from sklearn.linear_model import LinearRegression",
      "metadata": {
        "trusted": true
      },
      "execution_count": 13,
      "outputs": []
    },
    {
      "cell_type": "code",
      "source": "lr = LinearRegression()",
      "metadata": {
        "trusted": true
      },
      "execution_count": 14,
      "outputs": []
    },
    {
      "cell_type": "code",
      "source": "lr.fit(X_train, Y_train)",
      "metadata": {
        "trusted": true
      },
      "execution_count": 15,
      "outputs": [
        {
          "execution_count": 15,
          "output_type": "execute_result",
          "data": {
            "text/plain": "LinearRegression()"
          },
          "metadata": {}
        }
      ]
    },
    {
      "cell_type": "code",
      "source": "y_pred_lr = lr.predict(X_test)\ncheck_test_lr = pd.DataFrame({\n    \"Y_test\": Y_test[\"price\"], \n    \"Y_pred_lr\": y_pred_lr.flatten()})\n\ncheck_test_lr.head()",
      "metadata": {
        "trusted": true
      },
      "execution_count": 16,
      "outputs": [
        {
          "execution_count": 16,
          "output_type": "execute_result",
          "data": {
            "text/plain": "     Y_test  Y_pred_lr\n203    48.5  41.726868\n406    11.9   7.534213\n445    11.8  12.088187\n328    19.3  20.551364\n99     33.2  31.983463",
            "text/html": "<div>\n<style scoped>\n    .dataframe tbody tr th:only-of-type {\n        vertical-align: middle;\n    }\n\n    .dataframe tbody tr th {\n        vertical-align: top;\n    }\n\n    .dataframe thead th {\n        text-align: right;\n    }\n</style>\n<table border=\"1\" class=\"dataframe\">\n  <thead>\n    <tr style=\"text-align: right;\">\n      <th></th>\n      <th>Y_test</th>\n      <th>Y_pred_lr</th>\n    </tr>\n  </thead>\n  <tbody>\n    <tr>\n      <th>203</th>\n      <td>48.5</td>\n      <td>41.726868</td>\n    </tr>\n    <tr>\n      <th>406</th>\n      <td>11.9</td>\n      <td>7.534213</td>\n    </tr>\n    <tr>\n      <th>445</th>\n      <td>11.8</td>\n      <td>12.088187</td>\n    </tr>\n    <tr>\n      <th>328</th>\n      <td>19.3</td>\n      <td>20.551364</td>\n    </tr>\n    <tr>\n      <th>99</th>\n      <td>33.2</td>\n      <td>31.983463</td>\n    </tr>\n  </tbody>\n</table>\n</div>"
          },
          "metadata": {}
        }
      ]
    },
    {
      "cell_type": "code",
      "source": "from sklearn.metrics import mean_squared_error",
      "metadata": {
        "trusted": true
      },
      "execution_count": 17,
      "outputs": []
    },
    {
      "cell_type": "code",
      "source": "mean_squared_error_lr = mean_squared_error(check_test_lr[\"Y_pred_lr\"], check_test_lr[\"Y_test\"])\nprint(mean_squared_error_lr)",
      "metadata": {
        "trusted": true
      },
      "execution_count": 18,
      "outputs": [
        {
          "name": "stdout",
          "text": "24.893332668909867\n",
          "output_type": "stream"
        }
      ]
    },
    {
      "cell_type": "code",
      "source": "from sklearn.metrics import r2_score\nr2_score_1=r2_score(check_test_lr[\"Y_pred_lr\"], check_test_lr[\"Y_test\"])\nr2_score_1",
      "metadata": {
        "trusted": true
      },
      "execution_count": 23,
      "outputs": [
        {
          "execution_count": 23,
          "output_type": "execute_result",
          "data": {
            "text/plain": "0.6533607165460049"
          },
          "metadata": {}
        }
      ]
    },
    {
      "cell_type": "code",
      "source": "#Задние 2",
      "metadata": {
        "trusted": true
      },
      "execution_count": 24,
      "outputs": []
    },
    {
      "cell_type": "code",
      "source": "from sklearn.ensemble import RandomForestRegressor",
      "metadata": {
        "trusted": true
      },
      "execution_count": 25,
      "outputs": []
    },
    {
      "cell_type": "code",
      "source": "clf = RandomForestRegressor(n_estimators=1000, max_depth=12, random_state=42)",
      "metadata": {
        "trusted": true
      },
      "execution_count": 26,
      "outputs": []
    },
    {
      "cell_type": "code",
      "source": "clf.fit(X_train, Y_train.values[:, 0])",
      "metadata": {
        "trusted": true
      },
      "execution_count": 27,
      "outputs": [
        {
          "execution_count": 27,
          "output_type": "execute_result",
          "data": {
            "text/plain": "RandomForestRegressor(max_depth=12, n_estimators=1000, random_state=42)"
          },
          "metadata": {}
        }
      ]
    },
    {
      "cell_type": "code",
      "source": "y_pred_clf = clf.predict(X_test)\ncheck_test_clf = pd.DataFrame({\n    \"Y_test\": Y_test[\"price\"], \n    \"Y_pred_clf\": y_pred_clf.flatten()})\n\ncheck_test_clf.head()",
      "metadata": {
        "trusted": true
      },
      "execution_count": 28,
      "outputs": [
        {
          "execution_count": 28,
          "output_type": "execute_result",
          "data": {
            "text/plain": "     Y_test  Y_pred_clf\n203    48.5   48.127700\n406    11.9   11.726822\n445    11.8   11.246366\n328    19.3   20.896009\n99     33.2   32.515489",
            "text/html": "<div>\n<style scoped>\n    .dataframe tbody tr th:only-of-type {\n        vertical-align: middle;\n    }\n\n    .dataframe tbody tr th {\n        vertical-align: top;\n    }\n\n    .dataframe thead th {\n        text-align: right;\n    }\n</style>\n<table border=\"1\" class=\"dataframe\">\n  <thead>\n    <tr style=\"text-align: right;\">\n      <th></th>\n      <th>Y_test</th>\n      <th>Y_pred_clf</th>\n    </tr>\n  </thead>\n  <tbody>\n    <tr>\n      <th>203</th>\n      <td>48.5</td>\n      <td>48.127700</td>\n    </tr>\n    <tr>\n      <th>406</th>\n      <td>11.9</td>\n      <td>11.726822</td>\n    </tr>\n    <tr>\n      <th>445</th>\n      <td>11.8</td>\n      <td>11.246366</td>\n    </tr>\n    <tr>\n      <th>328</th>\n      <td>19.3</td>\n      <td>20.896009</td>\n    </tr>\n    <tr>\n      <th>99</th>\n      <td>33.2</td>\n      <td>32.515489</td>\n    </tr>\n  </tbody>\n</table>\n</div>"
          },
          "metadata": {}
        }
      ]
    },
    {
      "cell_type": "code",
      "source": "mean_squared_error_clf = mean_squared_error(check_test_clf[\"Y_pred_clf\"], check_test_clf[\"Y_test\"])\nprint(mean_squared_error_clf)",
      "metadata": {
        "trusted": true
      },
      "execution_count": 29,
      "outputs": [
        {
          "name": "stdout",
          "text": "11.219778122978315\n",
          "output_type": "stream"
        }
      ]
    },
    {
      "cell_type": "code",
      "source": "print(mean_squared_error_lr, mean_squared_error_clf)",
      "metadata": {
        "trusted": true
      },
      "execution_count": 30,
      "outputs": [
        {
          "name": "stdout",
          "text": "24.893332668909867 11.219778122978315\n",
          "output_type": "stream"
        }
      ]
    },
    {
      "cell_type": "code",
      "source": "r2_score_2=r2_score(check_test_clf[\"Y_pred_clf\"], check_test_clf[\"Y_test\"])\nr2_score_2",
      "metadata": {
        "trusted": true
      },
      "execution_count": 34,
      "outputs": [
        {
          "execution_count": 34,
          "output_type": "execute_result",
          "data": {
            "text/plain": "0.8450638971282375"
          },
          "metadata": {}
        }
      ]
    },
    {
      "cell_type": "code",
      "source": "r2_score_1<r2_score_2",
      "metadata": {
        "trusted": true
      },
      "execution_count": 35,
      "outputs": [
        {
          "execution_count": 35,
          "output_type": "execute_result",
          "data": {
            "text/plain": "True"
          },
          "metadata": {}
        }
      ]
    },
    {
      "cell_type": "code",
      "source": "#Модель RandomForestRegressor в данном случае работает лучше, чем модель LinearRegression",
      "metadata": {
        "trusted": true
      },
      "execution_count": 36,
      "outputs": []
    },
    {
      "cell_type": "code",
      "source": "#Задание 3",
      "metadata": {
        "trusted": true
      },
      "execution_count": 37,
      "outputs": []
    },
    {
      "cell_type": "code",
      "source": "print(clf.feature_importances_)",
      "metadata": {
        "trusted": true
      },
      "execution_count": 38,
      "outputs": [
        {
          "name": "stdout",
          "text": "[0.0468442  0.00107537 0.00775137 0.00101697 0.01892462 0.37929152\n 0.01199876 0.05256896 0.00381768 0.01470719 0.01279656 0.00995764\n 0.43924915]\n",
          "output_type": "stream"
        }
      ]
    },
    {
      "cell_type": "code",
      "source": "clf.feature_importances_ .sum()",
      "metadata": {
        "trusted": true
      },
      "execution_count": 43,
      "outputs": [
        {
          "execution_count": 43,
          "output_type": "execute_result",
          "data": {
            "text/plain": "1.0"
          },
          "metadata": {}
        }
      ]
    },
    {
      "cell_type": "code",
      "source": "feature_importance = pd.DataFrame({'name':X.columns, \n                                   'feature_importance':clf.feature_importances_}, \n                                  columns=['feature_importance', 'name'])\nfeature_importance",
      "metadata": {
        "trusted": true
      },
      "execution_count": 44,
      "outputs": [
        {
          "execution_count": 44,
          "output_type": "execute_result",
          "data": {
            "text/plain": "    feature_importance     name\n0             0.046844     CRIM\n1             0.001075       ZN\n2             0.007751    INDUS\n3             0.001017     CHAS\n4             0.018925      NOX\n5             0.379292       RM\n6             0.011999      AGE\n7             0.052569      DIS\n8             0.003818      RAD\n9             0.014707      TAX\n10            0.012797  PTRATIO\n11            0.009958        B\n12            0.439249    LSTAT",
            "text/html": "<div>\n<style scoped>\n    .dataframe tbody tr th:only-of-type {\n        vertical-align: middle;\n    }\n\n    .dataframe tbody tr th {\n        vertical-align: top;\n    }\n\n    .dataframe thead th {\n        text-align: right;\n    }\n</style>\n<table border=\"1\" class=\"dataframe\">\n  <thead>\n    <tr style=\"text-align: right;\">\n      <th></th>\n      <th>feature_importance</th>\n      <th>name</th>\n    </tr>\n  </thead>\n  <tbody>\n    <tr>\n      <th>0</th>\n      <td>0.046844</td>\n      <td>CRIM</td>\n    </tr>\n    <tr>\n      <th>1</th>\n      <td>0.001075</td>\n      <td>ZN</td>\n    </tr>\n    <tr>\n      <th>2</th>\n      <td>0.007751</td>\n      <td>INDUS</td>\n    </tr>\n    <tr>\n      <th>3</th>\n      <td>0.001017</td>\n      <td>CHAS</td>\n    </tr>\n    <tr>\n      <th>4</th>\n      <td>0.018925</td>\n      <td>NOX</td>\n    </tr>\n    <tr>\n      <th>5</th>\n      <td>0.379292</td>\n      <td>RM</td>\n    </tr>\n    <tr>\n      <th>6</th>\n      <td>0.011999</td>\n      <td>AGE</td>\n    </tr>\n    <tr>\n      <th>7</th>\n      <td>0.052569</td>\n      <td>DIS</td>\n    </tr>\n    <tr>\n      <th>8</th>\n      <td>0.003818</td>\n      <td>RAD</td>\n    </tr>\n    <tr>\n      <th>9</th>\n      <td>0.014707</td>\n      <td>TAX</td>\n    </tr>\n    <tr>\n      <th>10</th>\n      <td>0.012797</td>\n      <td>PTRATIO</td>\n    </tr>\n    <tr>\n      <th>11</th>\n      <td>0.009958</td>\n      <td>B</td>\n    </tr>\n    <tr>\n      <th>12</th>\n      <td>0.439249</td>\n      <td>LSTAT</td>\n    </tr>\n  </tbody>\n</table>\n</div>"
          },
          "metadata": {}
        }
      ]
    },
    {
      "cell_type": "code",
      "source": "feature_importance.nlargest(2, 'feature_importance')",
      "metadata": {
        "trusted": true
      },
      "execution_count": 45,
      "outputs": [
        {
          "execution_count": 45,
          "output_type": "execute_result",
          "data": {
            "text/plain": "    feature_importance   name\n12            0.439249  LSTAT\n5             0.379292     RM",
            "text/html": "<div>\n<style scoped>\n    .dataframe tbody tr th:only-of-type {\n        vertical-align: middle;\n    }\n\n    .dataframe tbody tr th {\n        vertical-align: top;\n    }\n\n    .dataframe thead th {\n        text-align: right;\n    }\n</style>\n<table border=\"1\" class=\"dataframe\">\n  <thead>\n    <tr style=\"text-align: right;\">\n      <th></th>\n      <th>feature_importance</th>\n      <th>name</th>\n    </tr>\n  </thead>\n  <tbody>\n    <tr>\n      <th>12</th>\n      <td>0.439249</td>\n      <td>LSTAT</td>\n    </tr>\n    <tr>\n      <th>5</th>\n      <td>0.379292</td>\n      <td>RM</td>\n    </tr>\n  </tbody>\n</table>\n</div>"
          },
          "metadata": {}
        }
      ]
    },
    {
      "cell_type": "code",
      "source": "#Наибольшей важностью облодают признаки LSTAT и RM",
      "metadata": {
        "trusted": true
      },
      "execution_count": 46,
      "outputs": []
    },
    {
      "cell_type": "code",
      "source": "#Задание 4 не смогу выполнить, так как проблема отоброжения столбцов, по этому поводу общались и скидывал скрины",
      "metadata": {
        "trusted": true
      },
      "execution_count": 47,
      "outputs": []
    },
    {
      "cell_type": "code",
      "source": "#Дополнительные задания",
      "metadata": {
        "trusted": true
      },
      "execution_count": 48,
      "outputs": []
    },
    {
      "cell_type": "code",
      "source": "from sklearn.datasets import load_wine\ndata = load_wine()\ndata.keys()",
      "metadata": {
        "trusted": true
      },
      "execution_count": 51,
      "outputs": [
        {
          "execution_count": 51,
          "output_type": "execute_result",
          "data": {
            "text/plain": "dict_keys(['data', 'target', 'frame', 'target_names', 'DESCR', 'feature_names'])"
          },
          "metadata": {}
        }
      ]
    },
    {
      "cell_type": "code",
      "source": "data.data",
      "metadata": {
        "trusted": true
      },
      "execution_count": 52,
      "outputs": [
        {
          "execution_count": 52,
          "output_type": "execute_result",
          "data": {
            "text/plain": "array([[1.423e+01, 1.710e+00, 2.430e+00, ..., 1.040e+00, 3.920e+00,\n        1.065e+03],\n       [1.320e+01, 1.780e+00, 2.140e+00, ..., 1.050e+00, 3.400e+00,\n        1.050e+03],\n       [1.316e+01, 2.360e+00, 2.670e+00, ..., 1.030e+00, 3.170e+00,\n        1.185e+03],\n       ...,\n       [1.327e+01, 4.280e+00, 2.260e+00, ..., 5.900e-01, 1.560e+00,\n        8.350e+02],\n       [1.317e+01, 2.590e+00, 2.370e+00, ..., 6.000e-01, 1.620e+00,\n        8.400e+02],\n       [1.413e+01, 4.100e+00, 2.740e+00, ..., 6.100e-01, 1.600e+00,\n        5.600e+02]])"
          },
          "metadata": {}
        }
      ]
    },
    {
      "cell_type": "code",
      "source": "print(data.DESCR)",
      "metadata": {
        "trusted": true
      },
      "execution_count": 53,
      "outputs": [
        {
          "name": "stdout",
          "text": ".. _wine_dataset:\n\nWine recognition dataset\n------------------------\n\n**Data Set Characteristics:**\n\n    :Number of Instances: 178 (50 in each of three classes)\n    :Number of Attributes: 13 numeric, predictive attributes and the class\n    :Attribute Information:\n \t\t- Alcohol\n \t\t- Malic acid\n \t\t- Ash\n\t\t- Alcalinity of ash  \n \t\t- Magnesium\n\t\t- Total phenols\n \t\t- Flavanoids\n \t\t- Nonflavanoid phenols\n \t\t- Proanthocyanins\n\t\t- Color intensity\n \t\t- Hue\n \t\t- OD280/OD315 of diluted wines\n \t\t- Proline\n\n    - class:\n            - class_0\n            - class_1\n            - class_2\n\t\t\n    :Summary Statistics:\n    \n    ============================= ==== ===== ======= =====\n                                   Min   Max   Mean     SD\n    ============================= ==== ===== ======= =====\n    Alcohol:                      11.0  14.8    13.0   0.8\n    Malic Acid:                   0.74  5.80    2.34  1.12\n    Ash:                          1.36  3.23    2.36  0.27\n    Alcalinity of Ash:            10.6  30.0    19.5   3.3\n    Magnesium:                    70.0 162.0    99.7  14.3\n    Total Phenols:                0.98  3.88    2.29  0.63\n    Flavanoids:                   0.34  5.08    2.03  1.00\n    Nonflavanoid Phenols:         0.13  0.66    0.36  0.12\n    Proanthocyanins:              0.41  3.58    1.59  0.57\n    Colour Intensity:              1.3  13.0     5.1   2.3\n    Hue:                          0.48  1.71    0.96  0.23\n    OD280/OD315 of diluted wines: 1.27  4.00    2.61  0.71\n    Proline:                       278  1680     746   315\n    ============================= ==== ===== ======= =====\n\n    :Missing Attribute Values: None\n    :Class Distribution: class_0 (59), class_1 (71), class_2 (48)\n    :Creator: R.A. Fisher\n    :Donor: Michael Marshall (MARSHALL%PLU@io.arc.nasa.gov)\n    :Date: July, 1988\n\nThis is a copy of UCI ML Wine recognition datasets.\nhttps://archive.ics.uci.edu/ml/machine-learning-databases/wine/wine.data\n\nThe data is the results of a chemical analysis of wines grown in the same\nregion in Italy by three different cultivators. There are thirteen different\nmeasurements taken for different constituents found in the three types of\nwine.\n\nOriginal Owners: \n\nForina, M. et al, PARVUS - \nAn Extendible Package for Data Exploration, Classification and Correlation. \nInstitute of Pharmaceutical and Food Analysis and Technologies,\nVia Brigata Salerno, 16147 Genoa, Italy.\n\nCitation:\n\nLichman, M. (2013). UCI Machine Learning Repository\n[https://archive.ics.uci.edu/ml]. Irvine, CA: University of California,\nSchool of Information and Computer Science. \n\n.. topic:: References\n\n  (1) S. Aeberhard, D. Coomans and O. de Vel, \n  Comparison of Classifiers in High Dimensional Settings, \n  Tech. Rep. no. 92-02, (1992), Dept. of Computer Science and Dept. of  \n  Mathematics and Statistics, James Cook University of North Queensland. \n  (Also submitted to Technometrics). \n\n  The data was used with many others for comparing various \n  classifiers. The classes are separable, though only RDA \n  has achieved 100% correct classification. \n  (RDA : 100%, QDA 99.4%, LDA 98.9%, 1NN 96.1% (z-transformed data)) \n  (All results using the leave-one-out technique) \n\n  (2) S. Aeberhard, D. Coomans and O. de Vel, \n  \"THE CLASSIFICATION PERFORMANCE OF RDA\" \n  Tech. Rep. no. 92-01, (1992), Dept. of Computer Science and Dept. of \n  Mathematics and Statistics, James Cook University of North Queensland. \n  (Also submitted to Journal of Chemometrics).\n\n",
          "output_type": "stream"
        }
      ]
    },
    {
      "cell_type": "code",
      "source": "data.feature_names",
      "metadata": {
        "trusted": true
      },
      "execution_count": 54,
      "outputs": [
        {
          "execution_count": 54,
          "output_type": "execute_result",
          "data": {
            "text/plain": "['alcohol',\n 'malic_acid',\n 'ash',\n 'alcalinity_of_ash',\n 'magnesium',\n 'total_phenols',\n 'flavanoids',\n 'nonflavanoid_phenols',\n 'proanthocyanins',\n 'color_intensity',\n 'hue',\n 'od280/od315_of_diluted_wines',\n 'proline']"
          },
          "metadata": {}
        }
      ]
    },
    {
      "cell_type": "code",
      "source": "np.unique(data[\"target\"]).shape",
      "metadata": {
        "trusted": true
      },
      "execution_count": 55,
      "outputs": [
        {
          "execution_count": 55,
          "output_type": "execute_result",
          "data": {
            "text/plain": "(3,)"
          },
          "metadata": {}
        }
      ]
    },
    {
      "cell_type": "code",
      "source": "data[\"target_names\"]",
      "metadata": {
        "trusted": true
      },
      "execution_count": 56,
      "outputs": [
        {
          "execution_count": 56,
          "output_type": "execute_result",
          "data": {
            "text/plain": "array(['class_0', 'class_1', 'class_2'], dtype='<U7')"
          },
          "metadata": {}
        }
      ]
    },
    {
      "cell_type": "code",
      "source": "X = pd.DataFrame(data.data, columns=data.feature_names)\nX.head()",
      "metadata": {
        "trusted": true
      },
      "execution_count": 57,
      "outputs": [
        {
          "execution_count": 57,
          "output_type": "execute_result",
          "data": {
            "text/plain": "   alcohol  malic_acid   ash  alcalinity_of_ash  magnesium  total_phenols  \\\n0    14.23        1.71  2.43               15.6      127.0           2.80   \n1    13.20        1.78  2.14               11.2      100.0           2.65   \n2    13.16        2.36  2.67               18.6      101.0           2.80   \n3    14.37        1.95  2.50               16.8      113.0           3.85   \n4    13.24        2.59  2.87               21.0      118.0           2.80   \n\n   flavanoids  nonflavanoid_phenols  proanthocyanins  color_intensity   hue  \\\n0        3.06                  0.28             2.29             5.64  1.04   \n1        2.76                  0.26             1.28             4.38  1.05   \n2        3.24                  0.30             2.81             5.68  1.03   \n3        3.49                  0.24             2.18             7.80  0.86   \n4        2.69                  0.39             1.82             4.32  1.04   \n\n   od280/od315_of_diluted_wines  proline  \n0                          3.92   1065.0  \n1                          3.40   1050.0  \n2                          3.17   1185.0  \n3                          3.45   1480.0  \n4                          2.93    735.0  ",
            "text/html": "<div>\n<style scoped>\n    .dataframe tbody tr th:only-of-type {\n        vertical-align: middle;\n    }\n\n    .dataframe tbody tr th {\n        vertical-align: top;\n    }\n\n    .dataframe thead th {\n        text-align: right;\n    }\n</style>\n<table border=\"1\" class=\"dataframe\">\n  <thead>\n    <tr style=\"text-align: right;\">\n      <th></th>\n      <th>alcohol</th>\n      <th>malic_acid</th>\n      <th>ash</th>\n      <th>alcalinity_of_ash</th>\n      <th>magnesium</th>\n      <th>total_phenols</th>\n      <th>flavanoids</th>\n      <th>nonflavanoid_phenols</th>\n      <th>proanthocyanins</th>\n      <th>color_intensity</th>\n      <th>hue</th>\n      <th>od280/od315_of_diluted_wines</th>\n      <th>proline</th>\n    </tr>\n  </thead>\n  <tbody>\n    <tr>\n      <th>0</th>\n      <td>14.23</td>\n      <td>1.71</td>\n      <td>2.43</td>\n      <td>15.6</td>\n      <td>127.0</td>\n      <td>2.80</td>\n      <td>3.06</td>\n      <td>0.28</td>\n      <td>2.29</td>\n      <td>5.64</td>\n      <td>1.04</td>\n      <td>3.92</td>\n      <td>1065.0</td>\n    </tr>\n    <tr>\n      <th>1</th>\n      <td>13.20</td>\n      <td>1.78</td>\n      <td>2.14</td>\n      <td>11.2</td>\n      <td>100.0</td>\n      <td>2.65</td>\n      <td>2.76</td>\n      <td>0.26</td>\n      <td>1.28</td>\n      <td>4.38</td>\n      <td>1.05</td>\n      <td>3.40</td>\n      <td>1050.0</td>\n    </tr>\n    <tr>\n      <th>2</th>\n      <td>13.16</td>\n      <td>2.36</td>\n      <td>2.67</td>\n      <td>18.6</td>\n      <td>101.0</td>\n      <td>2.80</td>\n      <td>3.24</td>\n      <td>0.30</td>\n      <td>2.81</td>\n      <td>5.68</td>\n      <td>1.03</td>\n      <td>3.17</td>\n      <td>1185.0</td>\n    </tr>\n    <tr>\n      <th>3</th>\n      <td>14.37</td>\n      <td>1.95</td>\n      <td>2.50</td>\n      <td>16.8</td>\n      <td>113.0</td>\n      <td>3.85</td>\n      <td>3.49</td>\n      <td>0.24</td>\n      <td>2.18</td>\n      <td>7.80</td>\n      <td>0.86</td>\n      <td>3.45</td>\n      <td>1480.0</td>\n    </tr>\n    <tr>\n      <th>4</th>\n      <td>13.24</td>\n      <td>2.59</td>\n      <td>2.87</td>\n      <td>21.0</td>\n      <td>118.0</td>\n      <td>2.80</td>\n      <td>2.69</td>\n      <td>0.39</td>\n      <td>1.82</td>\n      <td>4.32</td>\n      <td>1.04</td>\n      <td>2.93</td>\n      <td>735.0</td>\n    </tr>\n  </tbody>\n</table>\n</div>"
          },
          "metadata": {}
        }
      ]
    },
    {
      "cell_type": "code",
      "source": "X.shape",
      "metadata": {
        "trusted": true
      },
      "execution_count": 58,
      "outputs": [
        {
          "execution_count": 58,
          "output_type": "execute_result",
          "data": {
            "text/plain": "(178, 13)"
          },
          "metadata": {}
        }
      ]
    },
    {
      "cell_type": "code",
      "source": "X.info()",
      "metadata": {
        "trusted": true
      },
      "execution_count": 59,
      "outputs": [
        {
          "name": "stdout",
          "text": "<class 'pandas.core.frame.DataFrame'>\nRangeIndex: 178 entries, 0 to 177\nData columns (total 13 columns):\n #   Column                        Non-Null Count  Dtype  \n---  ------                        --------------  -----  \n 0   alcohol                       178 non-null    float64\n 1   malic_acid                    178 non-null    float64\n 2   ash                           178 non-null    float64\n 3   alcalinity_of_ash             178 non-null    float64\n 4   magnesium                     178 non-null    float64\n 5   total_phenols                 178 non-null    float64\n 6   flavanoids                    178 non-null    float64\n 7   nonflavanoid_phenols          178 non-null    float64\n 8   proanthocyanins               178 non-null    float64\n 9   color_intensity               178 non-null    float64\n 10  hue                           178 non-null    float64\n 11  od280/od315_of_diluted_wines  178 non-null    float64\n 12  proline                       178 non-null    float64\ndtypes: float64(13)\nmemory usage: 18.1 KB\n",
          "output_type": "stream"
        }
      ]
    },
    {
      "cell_type": "code",
      "source": "X['target'] = data.target",
      "metadata": {
        "trusted": true
      },
      "execution_count": 61,
      "outputs": []
    },
    {
      "cell_type": "code",
      "source": "X.head()",
      "metadata": {
        "trusted": true
      },
      "execution_count": 62,
      "outputs": [
        {
          "execution_count": 62,
          "output_type": "execute_result",
          "data": {
            "text/plain": "   alcohol  malic_acid   ash  alcalinity_of_ash  magnesium  total_phenols  \\\n0    14.23        1.71  2.43               15.6      127.0           2.80   \n1    13.20        1.78  2.14               11.2      100.0           2.65   \n2    13.16        2.36  2.67               18.6      101.0           2.80   \n3    14.37        1.95  2.50               16.8      113.0           3.85   \n4    13.24        2.59  2.87               21.0      118.0           2.80   \n\n   flavanoids  nonflavanoid_phenols  proanthocyanins  color_intensity   hue  \\\n0        3.06                  0.28             2.29             5.64  1.04   \n1        2.76                  0.26             1.28             4.38  1.05   \n2        3.24                  0.30             2.81             5.68  1.03   \n3        3.49                  0.24             2.18             7.80  0.86   \n4        2.69                  0.39             1.82             4.32  1.04   \n\n   od280/od315_of_diluted_wines  proline  target  \n0                          3.92   1065.0       0  \n1                          3.40   1050.0       0  \n2                          3.17   1185.0       0  \n3                          3.45   1480.0       0  \n4                          2.93    735.0       0  ",
            "text/html": "<div>\n<style scoped>\n    .dataframe tbody tr th:only-of-type {\n        vertical-align: middle;\n    }\n\n    .dataframe tbody tr th {\n        vertical-align: top;\n    }\n\n    .dataframe thead th {\n        text-align: right;\n    }\n</style>\n<table border=\"1\" class=\"dataframe\">\n  <thead>\n    <tr style=\"text-align: right;\">\n      <th></th>\n      <th>alcohol</th>\n      <th>malic_acid</th>\n      <th>ash</th>\n      <th>alcalinity_of_ash</th>\n      <th>magnesium</th>\n      <th>total_phenols</th>\n      <th>flavanoids</th>\n      <th>nonflavanoid_phenols</th>\n      <th>proanthocyanins</th>\n      <th>color_intensity</th>\n      <th>hue</th>\n      <th>od280/od315_of_diluted_wines</th>\n      <th>proline</th>\n      <th>target</th>\n    </tr>\n  </thead>\n  <tbody>\n    <tr>\n      <th>0</th>\n      <td>14.23</td>\n      <td>1.71</td>\n      <td>2.43</td>\n      <td>15.6</td>\n      <td>127.0</td>\n      <td>2.80</td>\n      <td>3.06</td>\n      <td>0.28</td>\n      <td>2.29</td>\n      <td>5.64</td>\n      <td>1.04</td>\n      <td>3.92</td>\n      <td>1065.0</td>\n      <td>0</td>\n    </tr>\n    <tr>\n      <th>1</th>\n      <td>13.20</td>\n      <td>1.78</td>\n      <td>2.14</td>\n      <td>11.2</td>\n      <td>100.0</td>\n      <td>2.65</td>\n      <td>2.76</td>\n      <td>0.26</td>\n      <td>1.28</td>\n      <td>4.38</td>\n      <td>1.05</td>\n      <td>3.40</td>\n      <td>1050.0</td>\n      <td>0</td>\n    </tr>\n    <tr>\n      <th>2</th>\n      <td>13.16</td>\n      <td>2.36</td>\n      <td>2.67</td>\n      <td>18.6</td>\n      <td>101.0</td>\n      <td>2.80</td>\n      <td>3.24</td>\n      <td>0.30</td>\n      <td>2.81</td>\n      <td>5.68</td>\n      <td>1.03</td>\n      <td>3.17</td>\n      <td>1185.0</td>\n      <td>0</td>\n    </tr>\n    <tr>\n      <th>3</th>\n      <td>14.37</td>\n      <td>1.95</td>\n      <td>2.50</td>\n      <td>16.8</td>\n      <td>113.0</td>\n      <td>3.85</td>\n      <td>3.49</td>\n      <td>0.24</td>\n      <td>2.18</td>\n      <td>7.80</td>\n      <td>0.86</td>\n      <td>3.45</td>\n      <td>1480.0</td>\n      <td>0</td>\n    </tr>\n    <tr>\n      <th>4</th>\n      <td>13.24</td>\n      <td>2.59</td>\n      <td>2.87</td>\n      <td>21.0</td>\n      <td>118.0</td>\n      <td>2.80</td>\n      <td>2.69</td>\n      <td>0.39</td>\n      <td>1.82</td>\n      <td>4.32</td>\n      <td>1.04</td>\n      <td>2.93</td>\n      <td>735.0</td>\n      <td>0</td>\n    </tr>\n  </tbody>\n</table>\n</div>"
          },
          "metadata": {}
        }
      ]
    },
    {
      "cell_type": "code",
      "source": "X_corr=X.corr()\nX_corr",
      "metadata": {
        "trusted": true
      },
      "execution_count": 63,
      "outputs": [
        {
          "execution_count": 63,
          "output_type": "execute_result",
          "data": {
            "text/plain": "                               alcohol  malic_acid       ash  \\\nalcohol                       1.000000    0.094397  0.211545   \nmalic_acid                    0.094397    1.000000  0.164045   \nash                           0.211545    0.164045  1.000000   \nalcalinity_of_ash            -0.310235    0.288500  0.443367   \nmagnesium                     0.270798   -0.054575  0.286587   \ntotal_phenols                 0.289101   -0.335167  0.128980   \nflavanoids                    0.236815   -0.411007  0.115077   \nnonflavanoid_phenols         -0.155929    0.292977  0.186230   \nproanthocyanins               0.136698   -0.220746  0.009652   \ncolor_intensity               0.546364    0.248985  0.258887   \nhue                          -0.071747   -0.561296 -0.074667   \nod280/od315_of_diluted_wines  0.072343   -0.368710  0.003911   \nproline                       0.643720   -0.192011  0.223626   \ntarget                       -0.328222    0.437776 -0.049643   \n\n                              alcalinity_of_ash  magnesium  total_phenols  \\\nalcohol                               -0.310235   0.270798       0.289101   \nmalic_acid                             0.288500  -0.054575      -0.335167   \nash                                    0.443367   0.286587       0.128980   \nalcalinity_of_ash                      1.000000  -0.083333      -0.321113   \nmagnesium                             -0.083333   1.000000       0.214401   \ntotal_phenols                         -0.321113   0.214401       1.000000   \nflavanoids                            -0.351370   0.195784       0.864564   \nnonflavanoid_phenols                   0.361922  -0.256294      -0.449935   \nproanthocyanins                       -0.197327   0.236441       0.612413   \ncolor_intensity                        0.018732   0.199950      -0.055136   \nhue                                   -0.273955   0.055398       0.433681   \nod280/od315_of_diluted_wines          -0.276769   0.066004       0.699949   \nproline                               -0.440597   0.393351       0.498115   \ntarget                                 0.517859  -0.209179      -0.719163   \n\n                              flavanoids  nonflavanoid_phenols  \\\nalcohol                         0.236815             -0.155929   \nmalic_acid                     -0.411007              0.292977   \nash                             0.115077              0.186230   \nalcalinity_of_ash              -0.351370              0.361922   \nmagnesium                       0.195784             -0.256294   \ntotal_phenols                   0.864564             -0.449935   \nflavanoids                      1.000000             -0.537900   \nnonflavanoid_phenols           -0.537900              1.000000   \nproanthocyanins                 0.652692             -0.365845   \ncolor_intensity                -0.172379              0.139057   \nhue                             0.543479             -0.262640   \nod280/od315_of_diluted_wines    0.787194             -0.503270   \nproline                         0.494193             -0.311385   \ntarget                         -0.847498              0.489109   \n\n                              proanthocyanins  color_intensity       hue  \\\nalcohol                              0.136698         0.546364 -0.071747   \nmalic_acid                          -0.220746         0.248985 -0.561296   \nash                                  0.009652         0.258887 -0.074667   \nalcalinity_of_ash                   -0.197327         0.018732 -0.273955   \nmagnesium                            0.236441         0.199950  0.055398   \ntotal_phenols                        0.612413        -0.055136  0.433681   \nflavanoids                           0.652692        -0.172379  0.543479   \nnonflavanoid_phenols                -0.365845         0.139057 -0.262640   \nproanthocyanins                      1.000000        -0.025250  0.295544   \ncolor_intensity                     -0.025250         1.000000 -0.521813   \nhue                                  0.295544        -0.521813  1.000000   \nod280/od315_of_diluted_wines         0.519067        -0.428815  0.565468   \nproline                              0.330417         0.316100  0.236183   \ntarget                              -0.499130         0.265668 -0.617369   \n\n                              od280/od315_of_diluted_wines   proline    target  \nalcohol                                           0.072343  0.643720 -0.328222  \nmalic_acid                                       -0.368710 -0.192011  0.437776  \nash                                               0.003911  0.223626 -0.049643  \nalcalinity_of_ash                                -0.276769 -0.440597  0.517859  \nmagnesium                                         0.066004  0.393351 -0.209179  \ntotal_phenols                                     0.699949  0.498115 -0.719163  \nflavanoids                                        0.787194  0.494193 -0.847498  \nnonflavanoid_phenols                             -0.503270 -0.311385  0.489109  \nproanthocyanins                                   0.519067  0.330417 -0.499130  \ncolor_intensity                                  -0.428815  0.316100  0.265668  \nhue                                               0.565468  0.236183 -0.617369  \nod280/od315_of_diluted_wines                      1.000000  0.312761 -0.788230  \nproline                                           0.312761  1.000000 -0.633717  \ntarget                                           -0.788230 -0.633717  1.000000  ",
            "text/html": "<div>\n<style scoped>\n    .dataframe tbody tr th:only-of-type {\n        vertical-align: middle;\n    }\n\n    .dataframe tbody tr th {\n        vertical-align: top;\n    }\n\n    .dataframe thead th {\n        text-align: right;\n    }\n</style>\n<table border=\"1\" class=\"dataframe\">\n  <thead>\n    <tr style=\"text-align: right;\">\n      <th></th>\n      <th>alcohol</th>\n      <th>malic_acid</th>\n      <th>ash</th>\n      <th>alcalinity_of_ash</th>\n      <th>magnesium</th>\n      <th>total_phenols</th>\n      <th>flavanoids</th>\n      <th>nonflavanoid_phenols</th>\n      <th>proanthocyanins</th>\n      <th>color_intensity</th>\n      <th>hue</th>\n      <th>od280/od315_of_diluted_wines</th>\n      <th>proline</th>\n      <th>target</th>\n    </tr>\n  </thead>\n  <tbody>\n    <tr>\n      <th>alcohol</th>\n      <td>1.000000</td>\n      <td>0.094397</td>\n      <td>0.211545</td>\n      <td>-0.310235</td>\n      <td>0.270798</td>\n      <td>0.289101</td>\n      <td>0.236815</td>\n      <td>-0.155929</td>\n      <td>0.136698</td>\n      <td>0.546364</td>\n      <td>-0.071747</td>\n      <td>0.072343</td>\n      <td>0.643720</td>\n      <td>-0.328222</td>\n    </tr>\n    <tr>\n      <th>malic_acid</th>\n      <td>0.094397</td>\n      <td>1.000000</td>\n      <td>0.164045</td>\n      <td>0.288500</td>\n      <td>-0.054575</td>\n      <td>-0.335167</td>\n      <td>-0.411007</td>\n      <td>0.292977</td>\n      <td>-0.220746</td>\n      <td>0.248985</td>\n      <td>-0.561296</td>\n      <td>-0.368710</td>\n      <td>-0.192011</td>\n      <td>0.437776</td>\n    </tr>\n    <tr>\n      <th>ash</th>\n      <td>0.211545</td>\n      <td>0.164045</td>\n      <td>1.000000</td>\n      <td>0.443367</td>\n      <td>0.286587</td>\n      <td>0.128980</td>\n      <td>0.115077</td>\n      <td>0.186230</td>\n      <td>0.009652</td>\n      <td>0.258887</td>\n      <td>-0.074667</td>\n      <td>0.003911</td>\n      <td>0.223626</td>\n      <td>-0.049643</td>\n    </tr>\n    <tr>\n      <th>alcalinity_of_ash</th>\n      <td>-0.310235</td>\n      <td>0.288500</td>\n      <td>0.443367</td>\n      <td>1.000000</td>\n      <td>-0.083333</td>\n      <td>-0.321113</td>\n      <td>-0.351370</td>\n      <td>0.361922</td>\n      <td>-0.197327</td>\n      <td>0.018732</td>\n      <td>-0.273955</td>\n      <td>-0.276769</td>\n      <td>-0.440597</td>\n      <td>0.517859</td>\n    </tr>\n    <tr>\n      <th>magnesium</th>\n      <td>0.270798</td>\n      <td>-0.054575</td>\n      <td>0.286587</td>\n      <td>-0.083333</td>\n      <td>1.000000</td>\n      <td>0.214401</td>\n      <td>0.195784</td>\n      <td>-0.256294</td>\n      <td>0.236441</td>\n      <td>0.199950</td>\n      <td>0.055398</td>\n      <td>0.066004</td>\n      <td>0.393351</td>\n      <td>-0.209179</td>\n    </tr>\n    <tr>\n      <th>total_phenols</th>\n      <td>0.289101</td>\n      <td>-0.335167</td>\n      <td>0.128980</td>\n      <td>-0.321113</td>\n      <td>0.214401</td>\n      <td>1.000000</td>\n      <td>0.864564</td>\n      <td>-0.449935</td>\n      <td>0.612413</td>\n      <td>-0.055136</td>\n      <td>0.433681</td>\n      <td>0.699949</td>\n      <td>0.498115</td>\n      <td>-0.719163</td>\n    </tr>\n    <tr>\n      <th>flavanoids</th>\n      <td>0.236815</td>\n      <td>-0.411007</td>\n      <td>0.115077</td>\n      <td>-0.351370</td>\n      <td>0.195784</td>\n      <td>0.864564</td>\n      <td>1.000000</td>\n      <td>-0.537900</td>\n      <td>0.652692</td>\n      <td>-0.172379</td>\n      <td>0.543479</td>\n      <td>0.787194</td>\n      <td>0.494193</td>\n      <td>-0.847498</td>\n    </tr>\n    <tr>\n      <th>nonflavanoid_phenols</th>\n      <td>-0.155929</td>\n      <td>0.292977</td>\n      <td>0.186230</td>\n      <td>0.361922</td>\n      <td>-0.256294</td>\n      <td>-0.449935</td>\n      <td>-0.537900</td>\n      <td>1.000000</td>\n      <td>-0.365845</td>\n      <td>0.139057</td>\n      <td>-0.262640</td>\n      <td>-0.503270</td>\n      <td>-0.311385</td>\n      <td>0.489109</td>\n    </tr>\n    <tr>\n      <th>proanthocyanins</th>\n      <td>0.136698</td>\n      <td>-0.220746</td>\n      <td>0.009652</td>\n      <td>-0.197327</td>\n      <td>0.236441</td>\n      <td>0.612413</td>\n      <td>0.652692</td>\n      <td>-0.365845</td>\n      <td>1.000000</td>\n      <td>-0.025250</td>\n      <td>0.295544</td>\n      <td>0.519067</td>\n      <td>0.330417</td>\n      <td>-0.499130</td>\n    </tr>\n    <tr>\n      <th>color_intensity</th>\n      <td>0.546364</td>\n      <td>0.248985</td>\n      <td>0.258887</td>\n      <td>0.018732</td>\n      <td>0.199950</td>\n      <td>-0.055136</td>\n      <td>-0.172379</td>\n      <td>0.139057</td>\n      <td>-0.025250</td>\n      <td>1.000000</td>\n      <td>-0.521813</td>\n      <td>-0.428815</td>\n      <td>0.316100</td>\n      <td>0.265668</td>\n    </tr>\n    <tr>\n      <th>hue</th>\n      <td>-0.071747</td>\n      <td>-0.561296</td>\n      <td>-0.074667</td>\n      <td>-0.273955</td>\n      <td>0.055398</td>\n      <td>0.433681</td>\n      <td>0.543479</td>\n      <td>-0.262640</td>\n      <td>0.295544</td>\n      <td>-0.521813</td>\n      <td>1.000000</td>\n      <td>0.565468</td>\n      <td>0.236183</td>\n      <td>-0.617369</td>\n    </tr>\n    <tr>\n      <th>od280/od315_of_diluted_wines</th>\n      <td>0.072343</td>\n      <td>-0.368710</td>\n      <td>0.003911</td>\n      <td>-0.276769</td>\n      <td>0.066004</td>\n      <td>0.699949</td>\n      <td>0.787194</td>\n      <td>-0.503270</td>\n      <td>0.519067</td>\n      <td>-0.428815</td>\n      <td>0.565468</td>\n      <td>1.000000</td>\n      <td>0.312761</td>\n      <td>-0.788230</td>\n    </tr>\n    <tr>\n      <th>proline</th>\n      <td>0.643720</td>\n      <td>-0.192011</td>\n      <td>0.223626</td>\n      <td>-0.440597</td>\n      <td>0.393351</td>\n      <td>0.498115</td>\n      <td>0.494193</td>\n      <td>-0.311385</td>\n      <td>0.330417</td>\n      <td>0.316100</td>\n      <td>0.236183</td>\n      <td>0.312761</td>\n      <td>1.000000</td>\n      <td>-0.633717</td>\n    </tr>\n    <tr>\n      <th>target</th>\n      <td>-0.328222</td>\n      <td>0.437776</td>\n      <td>-0.049643</td>\n      <td>0.517859</td>\n      <td>-0.209179</td>\n      <td>-0.719163</td>\n      <td>-0.847498</td>\n      <td>0.489109</td>\n      <td>-0.499130</td>\n      <td>0.265668</td>\n      <td>-0.617369</td>\n      <td>-0.788230</td>\n      <td>-0.633717</td>\n      <td>1.000000</td>\n    </tr>\n  </tbody>\n</table>\n</div>"
          },
          "metadata": {}
        }
      ]
    },
    {
      "cell_type": "code",
      "source": "high_corr=X_corr[\"target\"]\nhigh_corr=high_corr[np.abs(high_corr)>0.5].drop(\"target\", axis=0)\nhigh_corr=list(high_corr.index)\nhigh_corr",
      "metadata": {
        "trusted": true
      },
      "execution_count": 64,
      "outputs": [
        {
          "execution_count": 64,
          "output_type": "execute_result",
          "data": {
            "text/plain": "['alcalinity_of_ash',\n 'total_phenols',\n 'flavanoids',\n 'hue',\n 'od280/od315_of_diluted_wines',\n 'proline']"
          },
          "metadata": {}
        }
      ]
    },
    {
      "cell_type": "code",
      "source": "X = X.drop('target', axis=1)\nX.head()",
      "metadata": {
        "trusted": true
      },
      "execution_count": 65,
      "outputs": [
        {
          "execution_count": 65,
          "output_type": "execute_result",
          "data": {
            "text/plain": "   alcohol  malic_acid   ash  alcalinity_of_ash  magnesium  total_phenols  \\\n0    14.23        1.71  2.43               15.6      127.0           2.80   \n1    13.20        1.78  2.14               11.2      100.0           2.65   \n2    13.16        2.36  2.67               18.6      101.0           2.80   \n3    14.37        1.95  2.50               16.8      113.0           3.85   \n4    13.24        2.59  2.87               21.0      118.0           2.80   \n\n   flavanoids  nonflavanoid_phenols  proanthocyanins  color_intensity   hue  \\\n0        3.06                  0.28             2.29             5.64  1.04   \n1        2.76                  0.26             1.28             4.38  1.05   \n2        3.24                  0.30             2.81             5.68  1.03   \n3        3.49                  0.24             2.18             7.80  0.86   \n4        2.69                  0.39             1.82             4.32  1.04   \n\n   od280/od315_of_diluted_wines  proline  \n0                          3.92   1065.0  \n1                          3.40   1050.0  \n2                          3.17   1185.0  \n3                          3.45   1480.0  \n4                          2.93    735.0  ",
            "text/html": "<div>\n<style scoped>\n    .dataframe tbody tr th:only-of-type {\n        vertical-align: middle;\n    }\n\n    .dataframe tbody tr th {\n        vertical-align: top;\n    }\n\n    .dataframe thead th {\n        text-align: right;\n    }\n</style>\n<table border=\"1\" class=\"dataframe\">\n  <thead>\n    <tr style=\"text-align: right;\">\n      <th></th>\n      <th>alcohol</th>\n      <th>malic_acid</th>\n      <th>ash</th>\n      <th>alcalinity_of_ash</th>\n      <th>magnesium</th>\n      <th>total_phenols</th>\n      <th>flavanoids</th>\n      <th>nonflavanoid_phenols</th>\n      <th>proanthocyanins</th>\n      <th>color_intensity</th>\n      <th>hue</th>\n      <th>od280/od315_of_diluted_wines</th>\n      <th>proline</th>\n    </tr>\n  </thead>\n  <tbody>\n    <tr>\n      <th>0</th>\n      <td>14.23</td>\n      <td>1.71</td>\n      <td>2.43</td>\n      <td>15.6</td>\n      <td>127.0</td>\n      <td>2.80</td>\n      <td>3.06</td>\n      <td>0.28</td>\n      <td>2.29</td>\n      <td>5.64</td>\n      <td>1.04</td>\n      <td>3.92</td>\n      <td>1065.0</td>\n    </tr>\n    <tr>\n      <th>1</th>\n      <td>13.20</td>\n      <td>1.78</td>\n      <td>2.14</td>\n      <td>11.2</td>\n      <td>100.0</td>\n      <td>2.65</td>\n      <td>2.76</td>\n      <td>0.26</td>\n      <td>1.28</td>\n      <td>4.38</td>\n      <td>1.05</td>\n      <td>3.40</td>\n      <td>1050.0</td>\n    </tr>\n    <tr>\n      <th>2</th>\n      <td>13.16</td>\n      <td>2.36</td>\n      <td>2.67</td>\n      <td>18.6</td>\n      <td>101.0</td>\n      <td>2.80</td>\n      <td>3.24</td>\n      <td>0.30</td>\n      <td>2.81</td>\n      <td>5.68</td>\n      <td>1.03</td>\n      <td>3.17</td>\n      <td>1185.0</td>\n    </tr>\n    <tr>\n      <th>3</th>\n      <td>14.37</td>\n      <td>1.95</td>\n      <td>2.50</td>\n      <td>16.8</td>\n      <td>113.0</td>\n      <td>3.85</td>\n      <td>3.49</td>\n      <td>0.24</td>\n      <td>2.18</td>\n      <td>7.80</td>\n      <td>0.86</td>\n      <td>3.45</td>\n      <td>1480.0</td>\n    </tr>\n    <tr>\n      <th>4</th>\n      <td>13.24</td>\n      <td>2.59</td>\n      <td>2.87</td>\n      <td>21.0</td>\n      <td>118.0</td>\n      <td>2.80</td>\n      <td>2.69</td>\n      <td>0.39</td>\n      <td>1.82</td>\n      <td>4.32</td>\n      <td>1.04</td>\n      <td>2.93</td>\n      <td>735.0</td>\n    </tr>\n  </tbody>\n</table>\n</div>"
          },
          "metadata": {}
        }
      ]
    },
    {
      "cell_type": "code",
      "source": "",
      "metadata": {},
      "execution_count": null,
      "outputs": []
    }
  ]
}